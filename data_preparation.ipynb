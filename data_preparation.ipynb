{
 "cells": [
  {
   "cell_type": "code",
   "execution_count": 1,
   "metadata": {},
   "outputs": [],
   "source": [
    "import matplotlib as mpl\n",
    "import pandas as pd\n",
    "import numpy as np\n",
    "import tensorflow as tf\n",
    "import matplotlib.pyplot as plt\n",
    "\n",
    "\n",
    "mpl.rcParams['figure.figsize'] = (12, 8)\n",
    "mpl.rcParams['axes.grid'] = False\n",
    "\n",
    "pd.options.mode.chained_assignment = None  # silence pandas copy warning\n",
    "\n",
    "FILEPATH_DATA = \"data//quantified_self_data_full.csv\"\n",
    "\n",
    "df = pd.read_csv(FILEPATH_DATA)"
   ]
  },
  {
   "cell_type": "markdown",
   "metadata": {},
   "source": [
    "## Data Preparation\n",
    "\n",
    "Here's a legend of the different data values in the csv files:\n",
    "- Exercise: Number of minutes exercised on that day\n",
    "- Climbing: Climbed on that day (0 = no, 1, = yes)\n",
    "- Sweets: Number of sweets/desserts eaten that day\n",
    "- EatingOut: Number of meals eaten out that day\n",
    "- Coffee: Number of coffees drunk that day\n",
    "- Tea: Number of cups of tea drunk that day\n",
    "- Water: Liters of water drunk that day\n",
    "- DayRating: Subjective rating of how good the day was (-1 = bad, 0 = normal, 1 = good)\n",
    "- HoursSleep: Hours of sleep the previous night\n",
    "- Sunny: How sunny the day was (-1 = cloudy, 0 = mixed sun & clouds, 1 = sunny)\n",
    "- Rain: Did it rain that day (0 = no, 1 = yes)\n",
    "- Temperature: temperature high that day\n",
    "- Weight: weight in kilograms on that day (measured in the morning, right after waking up)\n",
    "\n",
    "Below I prepare the data to be fed into several machine learning models which attempt to predict my weight on the next day, given the data from the current day and possibly also preceding days.\n",
    "\n",
    "### Data Exploration\n",
    "\n",
    "As a first step, let's look at a summary of the data"
   ]
  },
  {
   "cell_type": "code",
   "execution_count": 2,
   "metadata": {},
   "outputs": [
    {
     "data": {
      "text/html": [
       "<div>\n",
       "<style scoped>\n",
       "    .dataframe tbody tr th:only-of-type {\n",
       "        vertical-align: middle;\n",
       "    }\n",
       "\n",
       "    .dataframe tbody tr th {\n",
       "        vertical-align: top;\n",
       "    }\n",
       "\n",
       "    .dataframe thead th {\n",
       "        text-align: right;\n",
       "    }\n",
       "</style>\n",
       "<table border=\"1\" class=\"dataframe\">\n",
       "  <thead>\n",
       "    <tr style=\"text-align: right;\">\n",
       "      <th></th>\n",
       "      <th>Exercise</th>\n",
       "      <th>Climbing</th>\n",
       "      <th>Sweets</th>\n",
       "      <th>EatingOut</th>\n",
       "      <th>Coffee</th>\n",
       "      <th>Tea</th>\n",
       "      <th>Water</th>\n",
       "      <th>DayRating</th>\n",
       "      <th>HoursSleep</th>\n",
       "      <th>Sunny</th>\n",
       "      <th>Rain</th>\n",
       "      <th>Temperature</th>\n",
       "      <th>Weight</th>\n",
       "    </tr>\n",
       "  </thead>\n",
       "  <tbody>\n",
       "    <tr>\n",
       "      <th>count</th>\n",
       "      <td>730.000000</td>\n",
       "      <td>730.000000</td>\n",
       "      <td>730.000000</td>\n",
       "      <td>730.000000</td>\n",
       "      <td>730.000000</td>\n",
       "      <td>730.000000</td>\n",
       "      <td>730.000000</td>\n",
       "      <td>730.000000</td>\n",
       "      <td>730.000000</td>\n",
       "      <td>730.000000</td>\n",
       "      <td>730.000000</td>\n",
       "      <td>730.000000</td>\n",
       "      <td>629.000000</td>\n",
       "    </tr>\n",
       "    <tr>\n",
       "      <th>mean</th>\n",
       "      <td>15.186301</td>\n",
       "      <td>0.093151</td>\n",
       "      <td>0.498630</td>\n",
       "      <td>0.604110</td>\n",
       "      <td>3.694521</td>\n",
       "      <td>1.254795</td>\n",
       "      <td>1.531644</td>\n",
       "      <td>0.016438</td>\n",
       "      <td>7.296239</td>\n",
       "      <td>0.030137</td>\n",
       "      <td>0.263014</td>\n",
       "      <td>15.730137</td>\n",
       "      <td>74.903657</td>\n",
       "    </tr>\n",
       "    <tr>\n",
       "      <th>std</th>\n",
       "      <td>22.827097</td>\n",
       "      <td>0.290843</td>\n",
       "      <td>0.710975</td>\n",
       "      <td>0.709129</td>\n",
       "      <td>0.979122</td>\n",
       "      <td>1.016063</td>\n",
       "      <td>0.500314</td>\n",
       "      <td>0.479773</td>\n",
       "      <td>1.082343</td>\n",
       "      <td>0.889920</td>\n",
       "      <td>0.440572</td>\n",
       "      <td>9.279078</td>\n",
       "      <td>1.618072</td>\n",
       "    </tr>\n",
       "    <tr>\n",
       "      <th>min</th>\n",
       "      <td>0.000000</td>\n",
       "      <td>0.000000</td>\n",
       "      <td>0.000000</td>\n",
       "      <td>0.000000</td>\n",
       "      <td>0.000000</td>\n",
       "      <td>0.000000</td>\n",
       "      <td>0.400000</td>\n",
       "      <td>-1.000000</td>\n",
       "      <td>4.000000</td>\n",
       "      <td>-1.000000</td>\n",
       "      <td>0.000000</td>\n",
       "      <td>-8.000000</td>\n",
       "      <td>70.500000</td>\n",
       "    </tr>\n",
       "    <tr>\n",
       "      <th>25%</th>\n",
       "      <td>0.000000</td>\n",
       "      <td>0.000000</td>\n",
       "      <td>0.000000</td>\n",
       "      <td>0.000000</td>\n",
       "      <td>3.000000</td>\n",
       "      <td>1.000000</td>\n",
       "      <td>1.200000</td>\n",
       "      <td>0.000000</td>\n",
       "      <td>6.500000</td>\n",
       "      <td>-1.000000</td>\n",
       "      <td>0.000000</td>\n",
       "      <td>8.000000</td>\n",
       "      <td>74.200000</td>\n",
       "    </tr>\n",
       "    <tr>\n",
       "      <th>50%</th>\n",
       "      <td>0.000000</td>\n",
       "      <td>0.000000</td>\n",
       "      <td>0.000000</td>\n",
       "      <td>0.000000</td>\n",
       "      <td>4.000000</td>\n",
       "      <td>1.000000</td>\n",
       "      <td>1.400000</td>\n",
       "      <td>0.000000</td>\n",
       "      <td>7.000000</td>\n",
       "      <td>0.000000</td>\n",
       "      <td>0.000000</td>\n",
       "      <td>16.000000</td>\n",
       "      <td>75.200000</td>\n",
       "    </tr>\n",
       "    <tr>\n",
       "      <th>75%</th>\n",
       "      <td>40.000000</td>\n",
       "      <td>0.000000</td>\n",
       "      <td>1.000000</td>\n",
       "      <td>1.000000</td>\n",
       "      <td>4.000000</td>\n",
       "      <td>2.000000</td>\n",
       "      <td>1.800000</td>\n",
       "      <td>0.000000</td>\n",
       "      <td>8.000000</td>\n",
       "      <td>1.000000</td>\n",
       "      <td>1.000000</td>\n",
       "      <td>23.000000</td>\n",
       "      <td>76.100000</td>\n",
       "    </tr>\n",
       "    <tr>\n",
       "      <th>max</th>\n",
       "      <td>120.000000</td>\n",
       "      <td>1.000000</td>\n",
       "      <td>4.000000</td>\n",
       "      <td>3.000000</td>\n",
       "      <td>7.000000</td>\n",
       "      <td>7.000000</td>\n",
       "      <td>5.000000</td>\n",
       "      <td>1.000000</td>\n",
       "      <td>11.500000</td>\n",
       "      <td>1.000000</td>\n",
       "      <td>1.000000</td>\n",
       "      <td>37.000000</td>\n",
       "      <td>78.400000</td>\n",
       "    </tr>\n",
       "  </tbody>\n",
       "</table>\n",
       "</div>"
      ],
      "text/plain": [
       "         Exercise    Climbing      Sweets   EatingOut      Coffee         Tea  \\\n",
       "count  730.000000  730.000000  730.000000  730.000000  730.000000  730.000000   \n",
       "mean    15.186301    0.093151    0.498630    0.604110    3.694521    1.254795   \n",
       "std     22.827097    0.290843    0.710975    0.709129    0.979122    1.016063   \n",
       "min      0.000000    0.000000    0.000000    0.000000    0.000000    0.000000   \n",
       "25%      0.000000    0.000000    0.000000    0.000000    3.000000    1.000000   \n",
       "50%      0.000000    0.000000    0.000000    0.000000    4.000000    1.000000   \n",
       "75%     40.000000    0.000000    1.000000    1.000000    4.000000    2.000000   \n",
       "max    120.000000    1.000000    4.000000    3.000000    7.000000    7.000000   \n",
       "\n",
       "            Water   DayRating  HoursSleep       Sunny        Rain  \\\n",
       "count  730.000000  730.000000  730.000000  730.000000  730.000000   \n",
       "mean     1.531644    0.016438    7.296239    0.030137    0.263014   \n",
       "std      0.500314    0.479773    1.082343    0.889920    0.440572   \n",
       "min      0.400000   -1.000000    4.000000   -1.000000    0.000000   \n",
       "25%      1.200000    0.000000    6.500000   -1.000000    0.000000   \n",
       "50%      1.400000    0.000000    7.000000    0.000000    0.000000   \n",
       "75%      1.800000    0.000000    8.000000    1.000000    1.000000   \n",
       "max      5.000000    1.000000   11.500000    1.000000    1.000000   \n",
       "\n",
       "       Temperature      Weight  \n",
       "count   730.000000  629.000000  \n",
       "mean     15.730137   74.903657  \n",
       "std       9.279078    1.618072  \n",
       "min      -8.000000   70.500000  \n",
       "25%       8.000000   74.200000  \n",
       "50%      16.000000   75.200000  \n",
       "75%      23.000000   76.100000  \n",
       "max      37.000000   78.400000  "
      ]
     },
     "execution_count": 2,
     "metadata": {},
     "output_type": "execute_result"
    }
   ],
   "source": [
    "df.describe()"
   ]
  },
  {
   "cell_type": "markdown",
   "metadata": {},
   "source": [
    "The features in the data range across a couple different types (continuous, binary, factors) and ranges, so we will need to normalize them for the neural network. The weight feature, which is also the target we're trying to predict, is missing some values, as we can see from the count row. If we look at the percent of NaNs in each column we see that unfortunately roughly 14% of the data is missing."
   ]
  },
  {
   "cell_type": "code",
   "execution_count": 3,
   "metadata": {},
   "outputs": [
    {
     "data": {
      "text/plain": [
       "Date           0.000000\n",
       "Exercise       0.000000\n",
       "Climbing       0.000000\n",
       "Sweets         0.000000\n",
       "EatingOut      0.000000\n",
       "Coffee         0.000000\n",
       "Tea            0.000000\n",
       "Water          0.000000\n",
       "DayRating      0.000000\n",
       "HoursSleep     0.000000\n",
       "Sunny          0.000000\n",
       "Rain           0.000000\n",
       "Temperature    0.000000\n",
       "Weight         0.138356\n",
       "dtype: float64"
      ]
     },
     "execution_count": 3,
     "metadata": {},
     "output_type": "execute_result"
    }
   ],
   "source": [
    "# Fraction of NaNs in each column\n",
    "df.isna().sum() / len(df)"
   ]
  },
  {
   "cell_type": "markdown",
   "metadata": {},
   "source": [
    "There are various interpolation schemes that one could use to try fill in the missing values, but for the purposes of modeling I'll simply not use values with no recorded weight, to avoid changing/biasing the underlying distribution. This has the drawback of reducing an even small dataset further, but that's how the proverbial cookie crumbles."
   ]
  },
  {
   "cell_type": "markdown",
   "metadata": {},
   "source": [
    "### Feature Engineering\n",
    "\n",
    "Since the data makes up a multivariate time series, it makes since to see if there are any cyclical dependencies in the data. To that end, I take the Fourier transform of the weight column. Since the Fourier transform won't take NaN values, I impute these using linear interpolation, but do not use these imputed values when building my models."
   ]
  },
  {
   "cell_type": "code",
   "execution_count": 4,
   "metadata": {},
   "outputs": [
    {
     "data": {
      "image/png": "[encoded data removed]",
      "text/plain": [
       "<Figure size 864x576 with 1 Axes>"
      ]
     },
     "metadata": {
      "needs_background": "light"
     },
     "output_type": "display_data"
    }
   ],
   "source": [
    "weights_for_fft = df.Weight.copy()\n",
    "\n",
    "# Get locations of NaNs. 0 idx is NaN because of diff operation, skip it\n",
    "nan_start_idxs = np.asarray(weights_for_fft.isna().diff()).nonzero()[0][1::2]\n",
    "nan_end_idxs = np.asarray(weights_for_fft.isna().diff()).nonzero()[0][2::2]\n",
    "\n",
    "# Impute weights\n",
    "for start_idx, end_idx in zip(nan_start_idxs, nan_end_idxs):\n",
    "    interval_length = end_idx - start_idx\n",
    "    imputed_weights = np.linspace(weights_for_fft[start_idx - 1], weights_for_fft[end_idx], interval_length + 2)[1:-1]\n",
    "    weights_for_fft[start_idx:end_idx] = imputed_weights\n",
    "\n",
    "# Get fft\n",
    "fft = tf.signal.rfft(weights_for_fft)\n",
    "f_per_dataset = np.arange(0, len(fft))\n",
    "\n",
    "n_samples_day = len(weights_for_fft)\n",
    "days_per_year = 365.25\n",
    "years_per_dataset = n_samples_day/(days_per_year)\n",
    "\n",
    "f_per_year = f_per_dataset/years_per_dataset\n",
    "plt.step(f_per_year, np.abs(fft))\n",
    "plt.xscale('log')\n",
    "plt.ylim(0, 750)\n",
    "plt.xlim([0.1, max(plt.xlim())])\n",
    "plt.xticks([1, 52, 365.25], labels=['1/Year', '1/Week', '1/day'])\n",
    "plt.xlabel('Frequency (log scale)')\n",
    "plt.ylabel('Amplitude (a.u.)')\n",
    "plt.show()"
   ]
  },
  {
   "cell_type": "markdown",
   "metadata": {},
   "source": [
    "There seems to be a clear peak on the time scale of a week, so let's add a sine and cosine feature to our dataset with a period of a week. Also I'll drop the Date column and add a Label column, which is the Weight variable offset by one day."
   ]
  },
  {
   "cell_type": "code",
   "execution_count": 5,
   "metadata": {},
   "outputs": [],
   "source": [
    "# Add week cosine/sine features\n",
    "df['WeekSin'] = np.sin(df.index * (2 * np.pi / 7))\n",
    "df['WeekCos'] = np.cos(df.index * (2 * np.pi / 7))\n",
    "\n",
    "# Drop Date field since classifer can't use it and it's not a useful feature.\n",
    "df = df.drop('Date', 1)\n",
    "\n",
    "# Add label column\n",
    "df[\"Label\"] = df.Weight.copy()\n",
    "df.Label[:-1] = df.Weight[1:]\n",
    "df.drop(df.tail(1).index,inplace=True) # drop last row as we don't have a Label value for it"
   ]
  },
  {
   "cell_type": "markdown",
   "metadata": {},
   "source": [
    "We now have 15 features and 629 non-NaN data points, which is not a ton of data, so it would be nice to reduce the number of features in our dataset. Though there are various ways to try to do this, I'll go for a simple strategy where I only keep variables which I expect *a priori* to influence weight, then I'll test that along with the original dataset to see which one performs best. "
   ]
  },
  {
   "cell_type": "code",
   "execution_count": 6,
   "metadata": {},
   "outputs": [],
   "source": [
    "df_reduced = df.copy()\n",
    "features_to_drop = [\"DayRating\", \"HoursSleep\", \"Sunny\", \"Rain\", \"Temperature\", ]\n",
    "\n",
    "# Only keep expected features\n",
    "for feature in features_to_drop:\n",
    "    df_reduced = df_reduced.drop(feature, 1)"
   ]
  },
  {
   "cell_type": "markdown",
   "metadata": {},
   "source": [
    "Finally I save the finished data frames."
   ]
  },
  {
   "cell_type": "code",
   "execution_count": 7,
   "metadata": {},
   "outputs": [],
   "source": [
    "df.to_csv(\"data\\dataset_full.csv\", index=False)\n",
    "df_reduced.to_csv(\"data\\dataset_reduced.csv\", index=False)"
   ]
  },
  {
   "cell_type": "code",
   "execution_count": null,
   "metadata": {},
   "outputs": [],
   "source": []
  }
 ],
 "metadata": {
  "kernelspec": {
   "display_name": "Python 3",
   "language": "python",
   "name": "python3"
  },
  "language_info": {
   "codemirror_mode": {
    "name": "ipython",
    "version": 3
   },
   "file_extension": ".py",
   "mimetype": "text/x-python",
   "name": "python",
   "nbconvert_exporter": "python",
   "pygments_lexer": "ipython3",
   "version": "3.7.6"
  }
 },
 "nbformat": 4,
 "nbformat_minor": 4
}
